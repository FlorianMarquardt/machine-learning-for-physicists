{
 "cells": [
  {
   "cell_type": "markdown",
   "metadata": {},
   "source": [
    "[![Open In Colab](https://colab.research.google.com/assets/colab-badge.svg)](https://colab.research.google.com/github/FlorianMarquardt/machine-learning-for-physicists/blob/master/2024/07_Tutorial_Reinforce_Maze_NeuralNetwork_Jax.ipynb)"
   ]
  },
  {
   "cell_type": "markdown",
   "metadata": {},
   "source": [
    "# Tutorial on Using REINFORCE (Basic Policy Gradient) to Solve the MAZE Problem"
   ]
  },
  {
   "cell_type": "markdown",
   "metadata": {},
   "source": [
    "## Basic Theory of REINFORCE Algorithm\n",
    "\n",
    "The REINFORCE algorithm is a fundamental policy gradient method used in reinforcement learning. It aims to optimize a policy by directly estimating the gradient of the expected reward with respect to the policy parameters. \n",
    "\n",
    "The goal of reinforcement learning is to find a policy $\\pi_\\theta(a|s)$ that maximizes the expected cumulative reward, known as the return $R_t$, over time:\n",
    "   $$\n",
    "   R_t = \\sum_{k=0}^\\infty \\gamma^k r_{t+k}\n",
    "   $$\n",
    "   where, \n",
    "- $s$ (state):The current situation or configuration of the environment.\n",
    "- $a$ (action): A decision made by the agent that affects the state.\n",
    "- $r$ (reward): Feedback from the environment indicating the result of an action.\n",
    "- $\\pi$ (policy): A function parameterized by $\\theta$ that maps states to a probability distribution over actions.\n",
    "- $\\gamma$ is the discount factor, $0 \\leq \\gamma \\leq 1$.\n",
    "\n",
    "\n",
    "The gradient of the expected return with respect to the policy parameters $\\theta$ is given by:\n",
    "   $$\n",
    "   \\nabla_\\theta J(\\theta) = \\mathbb{E}_{\\pi_\\theta} \\left[ \\nabla_\\theta \\log \\pi_\\theta(a|s) R_t \\right]\n",
    "   $$\n",
    "   where $J(\\theta)$ is the expected return under the policy $\\pi_\\theta$.\n",
    "\n",
    "Using the policy gradient, the parameters $\\theta$ are updated as follows:\n",
    "   $$\n",
    "   \\theta \\leftarrow \\theta + \\alpha \\nabla_\\theta J(\\theta)\n",
    "   $$\n",
    "   where $\\alpha$ is the learning rate.\n",
    "\n"
   ]
  },
  {
   "cell_type": "markdown",
   "metadata": {},
   "source": [
    "# Importing necessary libraries"
   ]
  },
  {
   "cell_type": "code",
   "execution_count": 1,
   "metadata": {},
   "outputs": [],
   "source": [
    "import jax \n",
    "import jax.numpy as jnp  \n",
    "import numpy as np  \n",
    "import matplotlib.pyplot as plt  \n",
    "import optax  # A gradient processing and optimization library for JAX.\n",
    "import flax.linen as nn  # Flax's neural network library built on JAX for building and training neural networks.\n",
    "from flax.training import train_state  # Utility from Flax to manage the state of the model during training.\n",
    "import random  \n",
    "import imageio.v2 as imageio  \n",
    "from tqdm import tqdm \n",
    "import os  \n"
   ]
  },
  {
   "cell_type": "markdown",
   "metadata": {},
   "source": [
    "# Function to generate a maze using a randomized Prim's algorithm"
   ]
  },
  {
   "cell_type": "code",
   "execution_count": 2,
   "metadata": {},
   "outputs": [],
   "source": [
    "def generate_maze(width=11, height=11, complexity=0.75, density=0.75):\n",
    "    # Define the shape of the maze ensuring it has odd dimensions\n",
    "    shape = ((height // 2) * 2 + 1, (width // 2) * 2 + 1)\n",
    "    # Define the complexity and density of the maze based on given parameters\n",
    "    complexity = int(complexity * (5 * (shape[0] + shape[1])))\n",
    "    density = int(density * ((shape[0] // 2) * (shape[1] // 2)))\n",
    "    # Initialize the maze with all walls\n",
    "    Z = np.zeros(shape, dtype=bool)\n",
    "    # Set the borders to be walls\n",
    "    Z[0, :] = Z[-1, :] = 1\n",
    "    Z[:, 0] = Z[:, -1] = 1\n",
    "    for i in range(density):\n",
    "        # Choose a random position and set it as a wall\n",
    "        x, y = np.random.randint(0, shape[1] // 2) * 2, np.random.randint(0, shape[0] // 2) * 2\n",
    "        Z[y, x] = 1\n",
    "        for j in range(complexity):\n",
    "            neighbours = []\n",
    "            # Check for valid neighbours\n",
    "            if x > 1:\n",
    "                neighbours.append((y, x - 2))\n",
    "            if x < shape[1] - 2:\n",
    "                neighbours.append((y, x + 2))\n",
    "            if y > 1:\n",
    "                neighbours.append((y - 2, x))\n",
    "            if y < shape[0] - 2:\n",
    "                neighbours.append((y + 2, x))\n",
    "            if len(neighbours):\n",
    "                # Randomly select a neighbour\n",
    "                y_, x_ = neighbours[np.random.randint(0, len(neighbours))]\n",
    "                if Z[y_, x_] == 0:\n",
    "                    # Create a path between the cells\n",
    "                    Z[y_, x_] = 1\n",
    "                    Z[y_ + (y - y_) // 2, x_ + (x - x_) // 2] = 1\n",
    "                    x, y = x_, y_\n",
    "    return Z"
   ]
  },
  {
   "cell_type": "code",
   "execution_count": 3,
   "metadata": {},
   "outputs": [
    {
     "data": {
      "image/png": "[encoded data removed]",
      "text/plain": [
       "<Figure size 640x480 with 1 Axes>"
      ]
     },
     "metadata": {},
     "output_type": "display_data"
    }
   ],
   "source": [
    "# visualize\n",
    "plt.imshow(generate_maze(width=31,height=31))\n",
    "plt.xticks([])\n",
    "plt.yticks([])\n",
    "plt.show()"
   ]
  },
  {
   "cell_type": "markdown",
   "metadata": {},
   "source": [
    "# Maze environment class (no batches)"
   ]
  },
  {
   "cell_type": "code",
   "execution_count": 4,
   "metadata": {},
   "outputs": [],
   "source": [
    "class MazeEnv:\n",
    "    def __init__(self, width=9, height=9, num_chests=10, num_steps=30):\n",
    "        self.width = width  # Width of the maze\n",
    "        self.height = height  # Height of the maze\n",
    "        self.num_chests = num_chests  # Number of treasure chests\n",
    "        self.world = jnp.array(generate_maze(width, height), dtype=jnp.int32)  # Generate the maze\n",
    "        self.reward_map = jnp.zeros((width, height))  # Initialize reward map\n",
    "        self._place_treasure_chests()  # Place treasure chests in the maze\n",
    "        self.reward_map_init = self.reward_map  # Save initial reward map state\n",
    "        self.state = None  # Initialize the state\n",
    "        self.num_steps = num_steps  # Maximum number of steps allowed\n",
    "        self.reset()  # Reset the environment\n",
    "\n",
    "    # Place treasure chests randomly in the maze\n",
    "    def _place_treasure_chests(self):\n",
    "        for _ in range(self.num_chests):\n",
    "            while True:\n",
    "                # Randomly choose a position for the chest\n",
    "                jx, jy = np.random.randint(self.width), np.random.randint(self.height)\n",
    "                # Ensure the position is valid (not a wall and not too close to the start)\n",
    "                if self.world[jx, jy] == 0 and (jx > 2 or jy > 2):\n",
    "                    self.reward_map = self.reward_map.at[jx, jy].set(1)  # Place the chest\n",
    "                    break\n",
    "\n",
    "    # Reset the environment\n",
    "    def reset(self):\n",
    "        self.timestep = 0  # Reset timestep counter\n",
    "        self.state = jnp.zeros((self.width, self.height), dtype=jnp.float32)  # Reset state\n",
    "        self.current_position = (1, 1)  # Start position\n",
    "        self.state = self.state.at[1, 1].set(1)  # Mark the start position in the state\n",
    "        self.reward_map = self.reward_map_init  # Reset the reward map\n",
    "        return self.state  # Return the initial state\n",
    "\n",
    "    # Take a step in the environment\n",
    "    def step(self, action):\n",
    "        self.timestep += 1  # Increment the timestep\n",
    "        directions = jnp.array([[0, 1], [0, -1], [1, 0], [-1, 0]])  # Define possible directions\n",
    "        jx, jy = self.current_position  # Get current position\n",
    "        # Calculate new position based on the action\n",
    "        jx_new, jy_new = jnp.array([jx, jy]) + directions[action]\n",
    "\n",
    "        if self.world[jx_new, jy_new] == 0:\n",
    "            # If the new position is not a wall, move to the new position\n",
    "            self.current_position = (jx_new, jy_new)\n",
    "            reward = 10.0 * self.reward_map[jx_new, jy_new]  # Get reward if there's a chest\n",
    "        else:\n",
    "            reward = -1.0  # Penalize hitting a wall\n",
    "\n",
    "        done = self.timestep == self.num_steps  # Check if maximum steps are reached\n",
    "\n",
    "        self.state = jnp.zeros((self.width, self.height), dtype=jnp.float32)  # Reset the state\n",
    "        jx, jy = self.current_position  # Get current position\n",
    "        self.state = self.state.at[jx, jy].set(1)  # Mark current position in the state\n",
    "        self.reward_map = self.reward_map.at[jx, jy].set(0)  # Remove the chest if collected\n",
    "\n",
    "        return self.state, reward, done  # Return the new state, reward, and done flag\n",
    "\n",
    "    # Render the environment\n",
    "    def render(self, save_path=None):\n",
    "        plt.imshow(self.world, alpha=1, cmap='gray')  # Display the maze\n",
    "        plt.xticks([])  # Hide x-axis ticks\n",
    "        plt.yticks([])  # Hide y-axis ticks\n",
    "        plt.imshow(self.reward_map, alpha=0.7, cmap='jet')  # Display the reward map\n",
    "        plt.imshow(self.state, alpha=0.5, cmap='hot')  # Display the current state\n",
    "        if save_path:\n",
    "            plt.savefig(save_path)  # Save the image if a path is provided\n",
    "            plt.close()  # Close the plot\n",
    "        else:\n",
    "            plt.show()  # Otherwise, show the plot\n",
    "\n",
    "# Define the policy network using Flax\n",
    "class PolicyNetwork(nn.Module):\n",
    "    @nn.compact\n",
    "    def __call__(self, x):\n",
    "        x = nn.relu(nn.Dense(128)(x))  # First dense layer with ReLU activation\n",
    "        # x = nn.relu(nn.Dense(32)(x))  # Second dense layer with ReLU activation\n",
    "        x = nn.Dense(4)(x)  # Output layer with 4 actions\n",
    "        return nn.log_softmax(x)  # Log-softmax activation for output\n",
    "\n",
    "# Create the training state for the policy network\n",
    "def create_train_state(key, learning_rate, input_shape):\n",
    "    policy_net = PolicyNetwork()  # Initialize the policy network\n",
    "    params = policy_net.init(key, jnp.ones(input_shape))['params']  # Initialize parameters\n",
    "    tx = optax.adam(learning_rate)  # Define the optimizer\n",
    "    return train_state.TrainState.create(apply_fn=policy_net.apply, params=params, tx=tx)  # Create the training state\n",
    "\n",
    "# Select an action based on the policy network\n",
    "@jax.jit\n",
    "def select_action(params, state, key):\n",
    "    logits = PolicyNetwork().apply({'params': params}, state)  # Compute the action logits\n",
    "    return jax.random.categorical(key, logits)  # Sample an action based on the logits\n",
    "\n",
    "# Compute the loss for the policy network\n",
    "@jax.jit\n",
    "def compute_loss(params, states, actions, rewards):\n",
    "    def policy_loss(logits, actions, rewards):\n",
    "        log_probs = jax.nn.log_softmax(logits)  # Compute log probabilities\n",
    "        selected_log_probs = jnp.sum(log_probs * jax.nn.one_hot(actions, logits.shape[-1]), axis=-1)  # Get selected log probabilities\n",
    "        return -jnp.mean(selected_log_probs * rewards)  # Compute the loss\n",
    "\n",
    "    logits = PolicyNetwork().apply({'params': params}, states)  # Get logits for the states\n",
    "    return policy_loss(logits, actions, rewards)  # Compute the policy loss\n",
    "\n",
    "# Update the model parameters based on the gradients\n",
    "@jax.jit\n",
    "def update_model(state, states, actions, rewards):\n",
    "    grads = jax.grad(compute_loss)(state.params, states, actions, rewards)  # Compute the gradients\n",
    "    return state.apply_gradients(grads=grads)  # Apply the gradients to update the model\n",
    "\n",
    "# Discount the rewards for each episode\n",
    "def discount_rewards(rewards, gamma=1.0):\n",
    "    discounted_rewards = np.zeros_like(rewards)  # Initialize discounted rewards array\n",
    "    cumulative_rewards = 0  # Initialize cumulative rewards\n",
    "    for i in reversed(range(len(rewards))):\n",
    "        cumulative_rewards = cumulative_rewards * gamma + rewards[i]  # Compute discounted rewards\n",
    "        discounted_rewards[i] = cumulative_rewards  # Store the discounted reward\n",
    "    return discounted_rewards"
   ]
  },
  {
   "cell_type": "markdown",
   "metadata": {},
   "source": [
    "## Train the model"
   ]
  },
  {
   "cell_type": "code",
   "execution_count": 5,
   "metadata": {},
   "outputs": [
    {
     "name": "stderr",
     "output_type": "stream",
     "text": [
      "Episode 500: Reward = 63.0: 100%|██████████| 500/500 [01:02<00:00,  8.01it/s] \n"
     ]
    }
   ],
   "source": [
    "def train(env, state, num_episodes=300, gamma=1.0, save_interval=50):\n",
    "    returns = []  # List to store returns of each episode\n",
    "    saved_actions = []  # List to store actions for creating GIF\n",
    "\n",
    "    pbar = tqdm(range(num_episodes))  # Progress bar for tracking training\n",
    "    for episode in pbar:\n",
    "        episode_states, episode_actions, episode_rewards = [], [], []  # Lists to store states, actions, and rewards for the episode\n",
    "        state_np = np.array(env.reset()).flatten()  # Flatten the initial state\n",
    "        done = False  # Initialize done flag\n",
    "        episode_reward = 0  # Initialize episode reward\n",
    "\n",
    "        while not done:\n",
    "            key = jax.random.PRNGKey(random.randint(0, int(1e9)))  # Generate a random key for action selection\n",
    "            action = select_action(state.params, jnp.array([state_np]), key)  # Select an action\n",
    "            action = int(action[0])  # Convert action to integer\n",
    "            next_state, reward, done = env.step(action)  # Take a step in the environment\n",
    "            next_state = next_state.flatten()  # Flatten the next state\n",
    "\n",
    "            episode_states.append(state_np)  # Store the current state\n",
    "            episode_actions.append(action)  # Store the action\n",
    "            episode_rewards.append(reward)  # Store the reward\n",
    "\n",
    "            state_np = np.array(next_state)  # Update the current state\n",
    "            episode_reward += reward  # Accumulate the reward\n",
    "\n",
    "        returns.append(episode_reward)  # Store the total reward of the episode\n",
    "\n",
    "        if episode % save_interval == 0:\n",
    "            saved_actions.append(episode_actions)  # Save actions for creating GIF\n",
    "\n",
    "        episode_states = jnp.array(episode_states)  # Convert states to JAX array\n",
    "        episode_actions = jnp.array(episode_actions)  # Convert actions to JAX array\n",
    "        episode_rewards = discount_rewards(np.array(episode_rewards), gamma)  # Discount rewards\n",
    "        episode_rewards = jnp.array(episode_rewards)  # Convert rewards to JAX array\n",
    "\n",
    "        state = update_model(state, episode_states, episode_actions, episode_rewards)  # Update the model\n",
    "\n",
    "        pbar.set_description(f'Episode {episode+1}: Reward = {episode_reward}')  # Update progress bar description\n",
    "    return state, returns, saved_actions  # Return the trained state, returns, and saved actions\n",
    "\n",
    "# Initialize the environment\n",
    "env = MazeEnv(width=9, height=9, num_chests=10, num_steps=100)  # Create a MazeEnv instance\n",
    "\n",
    "# Initialize the network\n",
    "key = jax.random.PRNGKey(0)  # Generate a random key for parameter initialization\n",
    "input_shape = (1, env.width * env.height)  # Define the input shape for the network\n",
    "state = create_train_state(key, learning_rate=0.01, input_shape=input_shape)  # Create the training state\n",
    "\n",
    "# Train the model\n",
    "trained_state, returns, saved_actions = train(env, state, num_episodes=500)  # Train the policy network\n"
   ]
  },
  {
   "cell_type": "markdown",
   "metadata": {},
   "source": [
    "## Plot the returns"
   ]
  },
  {
   "cell_type": "code",
   "execution_count": 6,
   "metadata": {},
   "outputs": [
    {
     "data": {
      "text/plain": [
       "Text(0.5, 1.0, 'Maze Environment Learning Curve')"
      ]
     },
     "execution_count": 6,
     "metadata": {},
     "output_type": "execute_result"
    },
    {
     "data": {
      "image/png": "[encoded data removed]",
      "text/plain": [
       "<Figure size 640x480 with 1 Axes>"
      ]
     },
     "metadata": {},
     "output_type": "display_data"
    }
   ],
   "source": [
    "plt.plot(jnp.stack(returns))\n",
    "plt.xlabel(\"Training Episodes\")\n",
    "plt.ylabel(\"Return\")\n",
    "plt.title(\"Maze Environment Learning Curve\")"
   ]
  },
  {
   "cell_type": "markdown",
   "metadata": {},
   "source": [
    "## Check the reward map"
   ]
  },
  {
   "cell_type": "code",
   "execution_count": 7,
   "metadata": {},
   "outputs": [
    {
     "data": {
      "image/png": "[encoded data removed]",
      "text/plain": [
       "<Figure size 640x480 with 1 Axes>"
      ]
     },
     "metadata": {},
     "output_type": "display_data"
    }
   ],
   "source": [
    "plt.imshow(env.world)\n",
    "plt.imshow(env.reward_map_init, alpha=0.6, cmap='jet')\n",
    "plt.xticks([]), plt.yticks([])\n",
    "plt.title(\"Reward map (initial)\")\n",
    "plt.show()"
   ]
  },
  {
   "cell_type": "code",
   "execution_count": 8,
   "metadata": {},
   "outputs": [
    {
     "data": {
      "image/png": "[encoded data removed]",
      "text/plain": [
       "<Figure size 640x480 with 1 Axes>"
      ]
     },
     "metadata": {},
     "output_type": "display_data"
    }
   ],
   "source": [
    "plt.imshow(env.world)\n",
    "plt.imshow(env.reward_map, alpha=0.6, cmap='jet')\n",
    "plt.xticks([]), plt.yticks([])\n",
    "plt.title(\"Reward map (final)\")\n",
    "plt.show()"
   ]
  },
  {
   "cell_type": "markdown",
   "metadata": {},
   "source": [
    "## Create a GIF from the saved actions"
   ]
  },
  {
   "cell_type": "code",
   "execution_count": 9,
   "metadata": {},
   "outputs": [],
   "source": [
    "def create_gif_from_actions(env, saved_actions, save_path='training_reinforce.gif'):\n",
    "    frames = []  # List to store frames for the GIF\n",
    "    for actions in saved_actions:\n",
    "        state = env.reset()  # Reset the environment\n",
    "        for action in actions:\n",
    "            state, _, _ = env.step(action)  # Take a step in the environment\n",
    "            fig_path = 'frame.png'  # Path to save the frame\n",
    "            env.render(save_path=fig_path)  # Render the environment and save the frame\n",
    "            frames.append(imageio.imread(fig_path))  # Read the frame and add to the list\n",
    "            os.remove(fig_path)  # Remove the saved frame\n",
    "    imageio.mimsave(save_path, frames, fps=10)  # Save the frames as a GIF\n",
    "\n",
    "# create_gif_from_actions(env, saved_actions, save_path='training_reinforce.gif')\n"
   ]
  },
  {
   "cell_type": "markdown",
   "metadata": {},
   "source": [
    "# Batched maze environment class"
   ]
  },
  {
   "cell_type": "code",
   "execution_count": 10,
   "metadata": {},
   "outputs": [],
   "source": [
    "class BatchedMazeEnv:\n",
    "    def __init__(self, width=9, height=9, num_chests=10, num_steps=50, batch_size=32):\n",
    "        self.width = width  # Width of the maze\n",
    "        self.height = height  # Height of the maze\n",
    "        self.num_chests = num_chests  # Number of treasure chests\n",
    "        self.num_steps = num_steps  # Maximum number of steps allowed\n",
    "        self.batch_size = batch_size  # Batch size for parallel environments\n",
    "\n",
    "        self.world = jnp.array(generate_maze(width, height), dtype=jnp.int32)  # Generate the maze\n",
    "        self.reward_map = jnp.zeros((width, height))  # Initialize reward map\n",
    "        self._place_treasure_chests()  # Place treasure chests in the maze\n",
    "\n",
    "        self.reward_map_init = self.reward_map  # Save initial reward map state\n",
    "        self.reset()  # Reset the environment\n",
    "\n",
    "    # Place treasure chests randomly in the maze\n",
    "    def _place_treasure_chests(self):\n",
    "        for _ in range(self.num_chests):\n",
    "            while True:\n",
    "                jx, jy = np.random.randint(self.width), np.random.randint(self.height)  # Randomly choose a position for the chest\n",
    "                if self.world[jx, jy] == 0 and (jx > 2 or jy > 2):  # Ensure the position is valid (not a wall and not too close to the start)\n",
    "                    self.reward_map = self.reward_map.at[jx, jy].set(1)  # Place the chest\n",
    "                    break\n",
    "\n",
    "    # Reset the environment\n",
    "    def reset(self):\n",
    "        self.timesteps = jnp.zeros(self.batch_size, dtype=int)  # Reset timestep counters\n",
    "        self.states = jnp.zeros((self.batch_size, self.width, self.height), dtype=jnp.float32)  # Reset states\n",
    "        self.current_positions = jnp.ones((self.batch_size, 2), dtype=int)  # Start positions for all environments\n",
    "        self.states = self.states.at[:, 1, 1].set(1)  # Mark the start positions in the states\n",
    "        self.reward_maps = jnp.tile(self.reward_map, (self.batch_size, 1, 1))  # Initialize reward maps for all environments\n",
    "        return self.states  # Return the initial states\n",
    "\n",
    "    # Take a step in the environment\n",
    "    def step(self, actions):\n",
    "        directions = jnp.array([[0, 1], [0, -1], [1, 0], [-1, 0]])  # Define possible directions\n",
    "        new_positions = self.current_positions + directions[actions]  # Calculate new positions based on the actions\n",
    "        new_positions = jnp.clip(new_positions, 0, self.width - 1)  # Clip new positions to stay within the maze bounds\n",
    "\n",
    "        # Calculate rewards based on the new positions\n",
    "        rewards = jnp.where(\n",
    "            self.world[new_positions[:, 0], new_positions[:, 1]] == 0,\n",
    "            10 * self.reward_maps[jnp.arange(self.batch_size), new_positions[:, 0], new_positions[:, 1]],\n",
    "            -1\n",
    "        )\n",
    "\n",
    "        self.timesteps += 1  # Increment the timestep counters\n",
    "        dones = self.timesteps >= self.num_steps  # Check if maximum steps are reached for each environment\n",
    "\n",
    "        # Determine if the moves are valid (not hitting a wall)\n",
    "        valid_moves = self.world[new_positions[:, 0], new_positions[:, 1]] == 0\n",
    "        self.current_positions = jnp.where(valid_moves[:, None], new_positions, self.current_positions)  # Update positions if moves are valid\n",
    "\n",
    "        self.states = jnp.zeros((self.batch_size, self.width, self.height), dtype=jnp.float32)  # Reset the states\n",
    "        self.states = self.states.at[jnp.arange(self.batch_size), self.current_positions[:, 0], self.current_positions[:, 1]].set(1)  # Mark current positions in the states\n",
    "        self.reward_maps = self.reward_maps.at[jnp.arange(self.batch_size), self.current_positions[:, 0], self.current_positions[:, 1]].set(0)  # Remove chests if collected\n",
    "\n",
    "        return self.states, rewards, dones  # Return the new states, rewards, and done flags\n",
    "\n",
    "    # Render the environment\n",
    "    def render(self, save_path=None, index=0):\n",
    "        plt.imshow(self.world, alpha=1)  # Display the maze\n",
    "        plt.xticks([])  # Hide x-axis ticks\n",
    "        plt.yticks([])  # Hide y-axis ticks\n",
    "        plt.imshow(self.reward_maps[index], alpha=0.7, cmap='jet')  # Display the reward map for the specified environment\n",
    "        plt.imshow(self.states[index], alpha=0.5, cmap='hot')  # Display the current state for the specified environment\n",
    "        if save_path:\n",
    "            plt.savefig(f\"{save_path}_{index}.png\")  # Save the image if a path is provided\n",
    "            plt.close()  # Close the plot\n",
    "        else:\n",
    "            plt.show()  # Otherwise, show the plot"
   ]
  },
  {
   "cell_type": "markdown",
   "metadata": {},
   "source": [
    "## Define the policy network using Flax"
   ]
  },
  {
   "cell_type": "code",
   "execution_count": 11,
   "metadata": {},
   "outputs": [],
   "source": [
    "class PolicyNetwork(nn.Module):\n",
    "    @nn.compact\n",
    "    def __call__(self, x):\n",
    "        x = nn.relu(nn.Dense(128)(x))  # First dense layer with ReLU activation\n",
    "        # x = nn.relu(nn.Dense(64)(x))  # Second dense layer with ReLU activation\n",
    "        x = nn.Dense(4)(x)  # Output layer with 4 actions\n",
    "        return nn.log_softmax(x)  # Log-softmax activation for output\n",
    "\n",
    "# Create the training state for the policy network\n",
    "def create_train_state(key, learning_rate, input_shape):\n",
    "    policy_net = PolicyNetwork()  # Initialize the policy network\n",
    "    params = policy_net.init(key, jnp.ones(input_shape))['params']  # Initialize parameters\n",
    "    tx = optax.adam(learning_rate)  # Define the optimizer\n",
    "    return train_state.TrainState.create(apply_fn=policy_net.apply, params=params, tx=tx)  # Create the training state\n",
    "\n",
    "# Select an action based on the policy network\n",
    "@jax.jit\n",
    "def select_action(params, state, key):\n",
    "    logits = PolicyNetwork().apply({'params': params}, state)  # Compute the action logits\n",
    "    return jax.random.categorical(key, logits)  # Sample an action based on the logits\n",
    "\n",
    "# Compute the loss for the policy network\n",
    "@jax.jit\n",
    "def compute_loss(params, states, actions, rewards):\n",
    "    def policy_loss(logits, actions, rewards):\n",
    "        log_probs = jax.nn.log_softmax(logits)  # Compute log probabilities\n",
    "        selected_log_probs = jnp.sum(log_probs * jax.nn.one_hot(actions, logits.shape[-1]), axis=-1)  # Get selected log probabilities\n",
    "        return -jnp.mean(selected_log_probs * rewards)  # Compute the loss\n",
    "\n",
    "    logits = PolicyNetwork().apply({'params': params}, states)  # Get logits for the states\n",
    "    return policy_loss(logits, actions, rewards)  # Compute the policy loss\n",
    "\n",
    "# Update the model parameters based on the gradients\n",
    "@jax.jit\n",
    "def update_model(state, states, actions, rewards):\n",
    "    grads = jax.grad(compute_loss)(state.params, states, actions, rewards)  # Compute the gradients\n",
    "    return state.apply_gradients(grads=grads)  # Apply the gradients to update the model\n",
    "\n",
    "# Discount the rewards for each episode\n",
    "def discount_rewards(rewards, gamma=1.0):\n",
    "    discounted_rewards = np.zeros_like(rewards)  # Initialize discounted rewards array\n",
    "    cumulative_rewards = 0  # Initialize cumulative rewards\n",
    "    for i in reversed(range(len(rewards))):\n",
    "        cumulative_rewards = cumulative_rewards * gamma + rewards[i]  # Compute discounted rewards\n",
    "        discounted_rewards[i] = cumulative_rewards  # Store the discounted reward\n",
    "    return discounted_rewards\n"
   ]
  },
  {
   "cell_type": "markdown",
   "metadata": {},
   "source": [
    "## Train the model"
   ]
  },
  {
   "cell_type": "code",
   "execution_count": 12,
   "metadata": {},
   "outputs": [
    {
     "name": "stderr",
     "output_type": "stream",
     "text": [
      "Episode 300: Average Reward = 87.86000061035156: 100%|██████████| 300/300 [01:28<00:00,  3.40it/s]\n"
     ]
    }
   ],
   "source": [
    "def train(env, state, num_episodes=300, gamma=1.0, save_interval=100):\n",
    "    returns = []  # List to store returns of each episode\n",
    "    saved_actions = []  # List to store actions for creating GIF\n",
    "\n",
    "    pbar = tqdm(range(num_episodes))  # Progress bar for tracking training\n",
    "    for episode in pbar:\n",
    "        episode_states, episode_actions, episode_rewards = [], [], []  # Lists to store states, actions, and rewards for the episode\n",
    "        state_np = np.array(env.reset()).reshape(env.batch_size, -1)  # Flatten the initial state\n",
    "        done = jnp.zeros(env.batch_size, dtype=bool)  # Initialize done flags\n",
    "        episode_reward = jnp.zeros(env.batch_size)  # Initialize episode rewards\n",
    "\n",
    "        while not jnp.all(done):\n",
    "            key = jax.random.PRNGKey(random.randint(0, int(1e9)))  # Generate a random key for action selection\n",
    "            action = select_action(state.params, jnp.array(state_np), key)  # Select an action\n",
    "            action = jnp.array(action)  # Convert action to JAX array\n",
    "\n",
    "            next_state, reward, done = env.step(action)  # Take a step in the environment\n",
    "            next_state = next_state.reshape(env.batch_size, -1)  # Flatten the next state\n",
    "\n",
    "            episode_states.append(state_np)  # Store the current states\n",
    "            episode_actions.append(action)  # Store the actions\n",
    "            episode_rewards.append(reward)  # Store the rewards\n",
    "\n",
    "            state_np = np.array(next_state)  # Update the current states\n",
    "            episode_reward += reward  # Accumulate the rewards\n",
    "\n",
    "        returns.append(jnp.mean(episode_reward))  # Store the average reward of the episode\n",
    "\n",
    "        if episode % save_interval == 0:\n",
    "            saved_actions.append([list(a) for a in jnp.array(episode_actions).T])  # Save actions for creating GIF\n",
    "\n",
    "        episode_states = jnp.array(episode_states)  # Convert states to JAX array\n",
    "        episode_actions = jnp.array(episode_actions)  # Convert actions to JAX array\n",
    "        episode_rewards = jnp.array([discount_rewards(np.array(er), gamma) for er in jnp.array(episode_rewards).T]).T  # Discount rewards\n",
    "\n",
    "        state = update_model(state, episode_states, episode_actions, episode_rewards)  # Update the model\n",
    "\n",
    "        pbar.set_description(f'Episode {episode+1}: Average Reward = {jnp.mean(episode_reward)}')  # Update progress bar description\n",
    "    return state, returns, saved_actions  # Return the trained state, returns, and saved actions\n",
    "\n",
    "# Initialize the environment\n",
    "batch_size = 100  # Number of parallel environments\n",
    "env = BatchedMazeEnv(width=9, height=9, num_chests=10, num_steps=100, batch_size=batch_size)  # Create a BatchedMazeEnv instance\n",
    "# Initialize the network\n",
    "key = jax.random.PRNGKey(0)  # Generate a random key for parameter initialization\n",
    "input_shape = (batch_size, env.width * env.height)  # Define the input shape for the network\n",
    "state = create_train_state(key, learning_rate=0.01, input_shape=input_shape)  # Create the training state\n",
    "\n",
    "# Train the model\n",
    "trained_state, returns, saved_actions = train(env, state, num_episodes=300)  # Train the policy network\n"
   ]
  },
  {
   "cell_type": "markdown",
   "metadata": {},
   "source": [
    "## Plot the returns"
   ]
  },
  {
   "cell_type": "code",
   "execution_count": 13,
   "metadata": {},
   "outputs": [
    {
     "data": {
      "text/plain": [
       "Text(0.5, 1.0, 'Maze Environment Learning Curve')"
      ]
     },
     "execution_count": 13,
     "metadata": {},
     "output_type": "execute_result"
    },
    {
     "data": {
      "image/png": "[encoded data removed]",
      "text/plain": [
       "<Figure size 640x480 with 1 Axes>"
      ]
     },
     "metadata": {},
     "output_type": "display_data"
    }
   ],
   "source": [
    "plt.plot(jnp.stack(returns))\n",
    "plt.xlabel(\"Training Episodes\")\n",
    "plt.ylabel(\"Return\")\n",
    "plt.title(\"Maze Environment Learning Curve\")"
   ]
  },
  {
   "cell_type": "markdown",
   "metadata": {},
   "source": [
    "## Check the reward maps"
   ]
  },
  {
   "cell_type": "code",
   "execution_count": 14,
   "metadata": {},
   "outputs": [
    {
     "data": {
      "image/png": "[encoded data removed]",
      "text/plain": [
       "<Figure size 640x480 with 1 Axes>"
      ]
     },
     "metadata": {},
     "output_type": "display_data"
    }
   ],
   "source": [
    "plt.imshow(env.world)\n",
    "plt.imshow(env.reward_map_init, alpha=0.6, cmap='jet')\n",
    "plt.xticks([]), plt.yticks([])\n",
    "plt.title(\"Reward map (initial)\")\n",
    "plt.show()"
   ]
  },
  {
   "cell_type": "code",
   "execution_count": 15,
   "metadata": {},
   "outputs": [
    {
     "data": {
      "image/png": "[encoded data removed]",
      "text/plain": [
       "<Figure size 640x480 with 1 Axes>"
      ]
     },
     "metadata": {},
     "output_type": "display_data"
    }
   ],
   "source": [
    "plt.imshow(env.world)\n",
    "plt.imshow(env.reward_maps[-1], alpha=0.6, cmap='jet')\n",
    "plt.xticks([]), plt.yticks([])\n",
    "plt.title(\"Reward map (final)\")\n",
    "plt.show()"
   ]
  },
  {
   "cell_type": "markdown",
   "metadata": {},
   "source": [
    "## Saving and Loading the trained model"
   ]
  },
  {
   "cell_type": "code",
   "execution_count": 16,
   "metadata": {},
   "outputs": [],
   "source": [
    "# Import necessary libraries for serialization\n",
    "import flax.serialization as serialization\n",
    "\n",
    "# Function to save the model\n",
    "def save_model(state, filename):\n",
    "    params = serialization.to_bytes(state.params)\n",
    "    with open(filename, 'wb') as f:\n",
    "        f.write(params)\n",
    "\n",
    "# Function to load the model\n",
    "def load_model(state, filename):\n",
    "    with open(filename, 'rb') as f:\n",
    "        params = serialization.from_bytes(state.params, f.read())\n",
    "    return state.replace(params=params)\n",
    "\n",
    "# Save the trained model\n",
    "save_model(trained_state, 'trained_model.msgpack')\n",
    "\n",
    "\n",
    "# Load the trained model\n",
    "loaded_state = load_model(state, 'trained_model.msgpack')\n"
   ]
  },
  {
   "cell_type": "markdown",
   "metadata": {},
   "source": [
    "## Evaluate"
   ]
  },
  {
   "cell_type": "code",
   "execution_count": 17,
   "metadata": {},
   "outputs": [
    {
     "name": "stdout",
     "output_type": "stream",
     "text": [
      "Average reward over 10 episodes: 87.6469955444336\n"
     ]
    }
   ],
   "source": [
    "# Function to evaluate the model\n",
    "def evaluate(env, state, num_episodes=10):\n",
    "    total_rewards = []\n",
    "\n",
    "    for episode in range(num_episodes):\n",
    "        state_np = np.array(env.reset()).reshape(env.batch_size, -1)  # Flatten the initial state\n",
    "        done = jnp.zeros(env.batch_size, dtype=bool)\n",
    "        episode_reward = jnp.zeros(env.batch_size)\n",
    "\n",
    "        while not jnp.all(done):\n",
    "            key = jax.random.PRNGKey(random.randint(0, int(1e9)))\n",
    "            action = select_action(state.params, jnp.array(state_np), key)\n",
    "            action = jnp.array(action)\n",
    "\n",
    "            next_state, reward, done = env.step(action)\n",
    "            next_state = next_state.reshape(env.batch_size, -1)  # Flatten the next state\n",
    "\n",
    "            state_np = np.array(next_state)\n",
    "            episode_reward += reward\n",
    "\n",
    "        total_rewards.append(jnp.mean(episode_reward))\n",
    "\n",
    "    average_reward = np.mean(total_rewards)\n",
    "    print(f'Average reward over {num_episodes} episodes: {average_reward}')\n",
    "    return average_reward\n",
    "\n",
    "# Evaluate the loaded model\n",
    "_ = evaluate(env, loaded_state, num_episodes=10)"
   ]
  },
  {
   "cell_type": "markdown",
   "metadata": {},
   "source": [
    "# Additional things to try"
   ]
  },
  {
   "cell_type": "markdown",
   "metadata": {},
   "source": [
    "- Try various other possible reward functions. \n",
    "- Use an end condition based on a reward threshold. Do it for a small maze\n",
    "- Try changing the number of treasure chests. Does this have an effect on performance?\n",
    "- Try changing the neural network structure"
   ]
  }
 ],
 "metadata": {
  "kernelspec": {
   "display_name": "aqt",
   "language": "python",
   "name": "python3"
  },
  "language_info": {
   "codemirror_mode": {
    "name": "ipython",
    "version": 3
   },
   "file_extension": ".py",
   "mimetype": "text/x-python",
   "name": "python",
   "nbconvert_exporter": "python",
   "pygments_lexer": "ipython3",
   "version": "3.11.9"
  }
 },
 "nbformat": 4,
 "nbformat_minor": 2
}
